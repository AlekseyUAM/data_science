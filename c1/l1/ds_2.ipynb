{
 "cells": [
  {
   "cell_type": "code",
   "execution_count": 3,
   "id": "92166cba",
   "metadata": {},
   "outputs": [],
   "source": [
    "import csv\n",
    "import pandas as pd\n",
    "import seaborn as sns\n",
    "import matplotlib.pyplot as plt"
   ]
  },
  {
   "cell_type": "code",
   "execution_count": 22,
   "id": "e6ebe764",
   "metadata": {},
   "outputs": [],
   "source": [
    "data = []\n",
    "with open('t2', 'r') as f:\n",
    "    for line in f:\n",
    "        data.append(line.replace('\\n','').split('\\t')[1:])"
   ]
  },
  {
   "cell_type": "code",
   "execution_count": 23,
   "id": "fb1115fa",
   "metadata": {},
   "outputs": [],
   "source": [
    "with open(\"memtris.csv\", \"wt\") as fp:\n",
    "    writer = csv.writer(fp, delimiter=\",\")\n",
    "    writer.writerow(['user_id','game_id','round','compactor','win','game_mode'])  # write header\n",
    "    writer.writerows(data)"
   ]
  },
  {
   "cell_type": "code",
   "execution_count": 1,
   "id": "5e6a4ad8",
   "metadata": {},
   "outputs": [
    {
     "ename": "NameError",
     "evalue": "name 'pd' is not defined",
     "output_type": "error",
     "traceback": [
      "\u001b[0;31m---------------------------------------------------------------------------\u001b[0m",
      "\u001b[0;31mNameError\u001b[0m                                 Traceback (most recent call last)",
      "Input \u001b[0;32mIn [1]\u001b[0m, in \u001b[0;36m<cell line: 1>\u001b[0;34m()\u001b[0m\n\u001b[0;32m----> 1\u001b[0m games \u001b[38;5;241m=\u001b[39m \u001b[43mpd\u001b[49m\u001b[38;5;241m.\u001b[39mread_csv(\u001b[38;5;124m'\u001b[39m\u001b[38;5;124mmemtris.csv\u001b[39m\u001b[38;5;124m'\u001b[39m)\n",
      "\u001b[0;31mNameError\u001b[0m: name 'pd' is not defined"
     ]
    }
   ],
   "source": [
    "games = pd.read_csv('memtris.csv')"
   ]
  },
  {
   "cell_type": "code",
   "execution_count": 27,
   "id": "2dc08952",
   "metadata": {},
   "outputs": [
    {
     "data": {
      "text/plain": [
       "<AxesSubplot:xlabel='round', ylabel='count'>"
      ]
     },
     "execution_count": 27,
     "metadata": {},
     "output_type": "execute_result"
    },
    {
     "data": {
      "image/png": "[encoded data removed]",
      "text/plain": [
       "<Figure size 432x288 with 1 Axes>"
      ]
     },
     "metadata": {
      "needs_background": "light"
     },
     "output_type": "display_data"
    }
   ],
   "source": [
    "sns.countplot(x=games['round'])"
   ]
  },
  {
   "cell_type": "code",
   "execution_count": 28,
   "id": "b864b489",
   "metadata": {},
   "outputs": [
    {
     "data": {
      "image/png": "[encoded data removed]",
      "text/plain": [
       "<Figure size 432x288 with 1 Axes>"
      ]
     },
     "metadata": {
      "needs_background": "light"
     },
     "output_type": "display_data"
    }
   ],
   "source": [
    "sns.countplot(x=games['compactor']);"
   ]
  },
  {
   "cell_type": "code",
   "execution_count": 29,
   "id": "f13b6b6d",
   "metadata": {},
   "outputs": [
    {
     "data": {
      "image/png": "[encoded data removed]",
      "text/plain": [
       "<Figure size 432x288 with 1 Axes>"
      ]
     },
     "metadata": {
      "needs_background": "light"
     },
     "output_type": "display_data"
    }
   ],
   "source": [
    "sns.countplot(x=games['win']);"
   ]
  },
  {
   "cell_type": "code",
   "execution_count": 30,
   "id": "eaae2d1d",
   "metadata": {},
   "outputs": [
    {
     "data": {
      "image/png": "[encoded data removed]",
      "text/plain": [
       "<Figure size 432x288 with 1 Axes>"
      ]
     },
     "metadata": {
      "needs_background": "light"
     },
     "output_type": "display_data"
    }
   ],
   "source": [
    "sns.countplot(x=games['game_mode']);"
   ]
  },
  {
   "cell_type": "code",
   "execution_count": 62,
   "id": "27a2b8b8",
   "metadata": {},
   "outputs": [],
   "source": [
    "games_compactor_on = games[games['compactor'] == True]\n",
    "games_compactor_off = games[games['compactor'] == False]"
   ]
  },
  {
   "cell_type": "code",
   "execution_count": 37,
   "id": "64b1c87f",
   "metadata": {},
   "outputs": [
    {
     "data": {
      "image/png": "[encoded data removed]",
      "text/plain": [
       "<Figure size 432x288 with 1 Axes>"
      ]
     },
     "metadata": {
      "needs_background": "light"
     },
     "output_type": "display_data"
    }
   ],
   "source": [
    "# Игры с уплотнителем:\n",
    "sns.countplot(x=games_compactor_on['win']);"
   ]
  },
  {
   "cell_type": "code",
   "execution_count": 39,
   "id": "ea8b9cc9",
   "metadata": {},
   "outputs": [
    {
     "data": {
      "image/png": "[encoded data removed]",
      "text/plain": [
       "<Figure size 432x288 with 1 Axes>"
      ]
     },
     "metadata": {
      "needs_background": "light"
     },
     "output_type": "display_data"
    }
   ],
   "source": [
    "# Игры без уплотнителя:\n",
    "sns.countplot(x=games_compactor_off['win']);"
   ]
  },
  {
   "cell_type": "code",
   "execution_count": 40,
   "id": "37825491",
   "metadata": {},
   "outputs": [
    {
     "name": "stdout",
     "output_type": "stream",
     "text": [
      "Выигрышей с уплотнителем: 47 %\n",
      "Выигрышей без уплотнителя: 47 %\n"
     ]
    }
   ],
   "source": [
    "def get_wins_percent(data):\n",
    "    return int(round(data['win'].mean() * 100))\n",
    "\n",
    "print('Выигрышей с уплотнителем:', get_wins_percent(games_compactor_on), '%')\n",
    "print('Выигрышей без уплотнителя:', get_wins_percent(games_compactor_off), '%')"
   ]
  },
  {
   "cell_type": "code",
   "execution_count": 63,
   "id": "30534342",
   "metadata": {},
   "outputs": [
    {
     "name": "stdout",
     "output_type": "stream",
     "text": [
      "Round 1\n",
      "Выигрышей с уплотнителем: 100 %\n",
      "Выигрышей без уплотнителя: 67 %\n",
      "\n",
      "Round 2\n",
      "Выигрышей с уплотнителем: 0 %\n",
      "Выигрышей без уплотнителя: 54 %\n",
      "\n",
      "Round 3\n",
      "Выигрышей с уплотнителем: 67 %\n",
      "Выигрышей без уплотнителя: 25 %\n",
      "\n",
      "Round 4\n",
      "Выигрышей с уплотнителем: 50 %\n",
      "Выигрышей без уплотнителя: 67 %\n",
      "\n",
      "Round 5\n",
      "Выигрышей с уплотнителем: 0 %\n",
      "Выигрышей без уплотнителя: 20 %\n",
      "\n"
     ]
    }
   ],
   "source": [
    "for game_round in [1, 2, 3, 4, 5]:\n",
    "    print('Round', game_round)\n",
    "    print('Выигрышей с уплотнителем:', \n",
    "          get_wins_percent(games_compactor_on[games_compactor_on['round'] == game_round]),\n",
    "          '%')\n",
    "    print('Выигрышей без уплотнителя:',\n",
    "          get_wins_percent(games_compactor_off[games_compactor_off['round'] == game_round]),\n",
    "          '%')\n",
    "    print()"
   ]
  },
  {
   "cell_type": "code",
   "execution_count": 64,
   "id": "6e4beec5",
   "metadata": {},
   "outputs": [
    {
     "name": "stdout",
     "output_type": "stream",
     "text": [
      "Mode hard\n",
      "Доля выигрышей с уплотнителем: 38 %\n",
      "Доля выигрышей без уплотнителя: 35 %\n",
      "\n",
      "Mode easy\n",
      "Доля выигрышей с уплотнителем: 57 %\n",
      "Доля выигрышей без уплотнителя: 59 %\n",
      "\n"
     ]
    }
   ],
   "source": [
    "for game_mode in ['hard', 'easy']:\n",
    "    print('Mode', game_mode)\n",
    "    print('Доля выигрышей с уплотнителем:',\n",
    "          get_wins_percent(games_compactor_on[games_compactor_on['game_mode'] == game_mode]),\n",
    "          '%')\n",
    "    print('Доля выигрышей без уплотнителя:',\n",
    "          get_wins_percent(games_compactor_off[games_compactor_off['game_mode'] == game_mode]),\n",
    "          '%')\n",
    "    print()"
   ]
  },
  {
   "cell_type": "code",
   "execution_count": 4,
   "id": "89620849",
   "metadata": {},
   "outputs": [
    {
     "data": {
      "text/plain": [
       "<AxesSubplot:>"
      ]
     },
     "execution_count": 4,
     "metadata": {},
     "output_type": "execute_result"
    },
    {
     "data": {
      "image/png": "[encoded data removed]",
      "text/plain": [
       "<Figure size 432x288 with 2 Axes>"
      ]
     },
     "metadata": {
      "needs_background": "light"
     },
     "output_type": "display_data"
    }
   ],
   "source": [
    "segments_old = ['Segment 0', 'Segment 1', 'Segment 2']\n",
    "segments_new = ['Потенциальные клиенты', 'Обычные клиенты', 'VIP-клиенты']\n",
    "intervals = ['До внедрения роботов', 'После внедрения роботов']\n",
    "\n",
    "# вымышленные значения\n",
    "mean_scores = [[1, 2],\n",
    "               [3, 4],\n",
    "               [5, 6]]\n",
    "\n",
    "# настраиваем и строим хитмэп\n",
    "sns.heatmap(mean_scores, xticklabels=intervals, yticklabels=segments_new, annot=True, cmap='RdYlGn') "
   ]
  },
  {
   "cell_type": "code",
   "execution_count": null,
   "id": "f904bf9d",
   "metadata": {},
   "outputs": [],
   "source": []
  }
 ],
 "metadata": {
  "kernelspec": {
   "display_name": "Python 3 (ipykernel)",
   "language": "python",
   "name": "python3"
  },
  "language_info": {
   "codemirror_mode": {
    "name": "ipython",
    "version": 3
   },
   "file_extension": ".py",
   "mimetype": "text/x-python",
   "name": "python",
   "nbconvert_exporter": "python",
   "pygments_lexer": "ipython3",
   "version": "3.9.12"
  }
 },
 "nbformat": 4,
 "nbformat_minor": 5
}
